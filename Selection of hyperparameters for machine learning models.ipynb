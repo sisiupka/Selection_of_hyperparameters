{
 "cells": [
  {
   "cell_type": "markdown",
   "metadata": {},
   "source": [
    "\n",
    "**Selection of hyperparameters for machine learning models**"
   ]
  },
  {
   "cell_type": "markdown",
   "metadata": {},
   "source": [
    "\n",
    "\n",
    "Мы будем обучать модели машинного обучения, ставить эксперименты, подбирать гиперпараметры, сравнивать и смешивать модели. Предлагается решить задачу бинарной классификации, а именно построить алгоритм, определяющий превысит ли средний заработок человека порог $50k. Каждый объект выборки — человек, для которого известны следующие признаки:\n",
    " - age\n",
    " - workclass\n",
    " - fnlwgt\n",
    " - education\n",
    " - education-num\n",
    " - marital-status\n",
    " - occupation\n",
    " - relationship\n",
    " - race\n",
    " - sex\n",
    " - capital-gain\n",
    " - capital-loss\n",
    " - hours-per-week\n",
    " \n",
    "Более подробно про признаки можно почитать [здесь](http://archive.ics.uci.edu/ml/machine-learning-databases/adult/adult.names). Целевой признак записан в переменной *>50K,<=50K*."
   ]
  },
  {
   "cell_type": "markdown",
   "metadata": {},
   "source": [
    "Мы будем оценивать качество моделей с помощью метрики AUC-ROC."
   ]
  },
  {
   "cell_type": "markdown",
   "metadata": {},
   "source": [
    "# Подбор гиперпараметров модели\n",
    "\n",
    "В задачах машинного обучения следует различать параметры модели и гиперпараметры (структурные параметры). Обычно параметры модели настраиваются в ходе обучения (например, веса в линейной модели или структура решающего дерева), в то время как гиперпараметры задаются заранее (например, регуляризация в линейной модели или максимальная глубина решающего дерева). Каждая модель обычно имеет множество гиперпараметров, и нет универсальных наборов гиперпараметров, оптимально работающих во всех задачах, для каждой задачи нужно подбирать свой набор.\n",
    "\n",
    "Для оптимизации гиперпараметров модели часто используют _перебор по сетке (grid search)_: для каждого гиперпараметра выбирается несколько значений, перебираются все комбинации значений и выбирается комбинация, на которой модель показывает лучшее качество (с точки зрения метрики, которая оптимизируется). Однако в этом случае нужно грамотно оценивать построенную модель, а именно делать разбиение на обучающую и тестовую выборку. Есть несколько схем, как это можно реализовать: \n",
    "\n",
    " - Разбить имеющуюся выборку на обучающую и тестовую. В этом случае сравнение большого числа моделей при переборе параметров приводит к ситуации, когда лучшая на тестовой подвыборке модель не сохраняет свои качества на новых данных. Можно сказать, что происходит _переобучение_ на тестовую выборку.\n",
    " - Для устранения описанной выше проблемы, можно разбить данные на 3 непересекающихся подвыборки: обучение (`train`), валидация (`validation`) и контроль (`test`). Валидационную подвыборку используют для сравнения моделей, а `test` — для окончательной оценки качества и сравнения семейств моделей с подобранными параметрами.\n",
    " - Другой способ сравнения моделей — [кросс-валидация](http://en.wikipedia.org/wiki/Cross-validation_(statistics). Существуют различные схемы кросс-валидации:\n",
    "  - Leave-One-Out\n",
    "  - K-Fold\n",
    "  - Многократное случайное разбиение выборки\n",
    "  \n",
    "Кросс-валидация вычислительно затратна, особенно если вы делаете перебор по сетке с очень большим числом комбинации. С учетом конечности времени на выполнение задания, возникает ряд компромиссов: \n",
    "  - сетку можно делать более разреженной, перебирая меньше значений каждого параметра; однако, надо не забывать, что в таком случае можно пропустить хорошую комбинацию параметров;\n",
    "  - кросс-валидацию можно делать с меньшим числом разбиений или фолдов, но в таком случае оценка качества кросс-валидации становится более шумной и увеличивается риск выбрать неоптимальный набор параметров из-за случайности разбиения;\n",
    "  - параметры можно оптимизировать последовательно (жадно) — один за другим, а не перебирать все комбинации; такая стратегия не всегда приводит к оптимальному набору;\n",
    "  - перебирать не все комбинации параметров, а небольшое число случайно выбранных."
   ]
  },
  {
   "cell_type": "markdown",
   "metadata": {},
   "source": [
    "Загрузим набор данных *data.adult.csv*:"
   ]
  },
  {
   "cell_type": "code",
   "execution_count": 39,
   "metadata": {},
   "outputs": [
    {
     "name": "stdout",
     "output_type": "stream",
     "text": [
      "16280\n",
      "Index(['age', 'workclass', 'fnlwgt', 'education', 'education-num',\n",
      "       'marital-status', 'occupation', 'relationship', 'race', 'sex',\n",
      "       'capital-gain', 'capital-loss', 'hours-per-week', '>50K,<=50K'],\n",
      "      dtype='object')\n"
     ]
    },
    {
     "data": {
      "text/html": [
       "<div>\n",
       "<style scoped>\n",
       "    .dataframe tbody tr th:only-of-type {\n",
       "        vertical-align: middle;\n",
       "    }\n",
       "\n",
       "    .dataframe tbody tr th {\n",
       "        vertical-align: top;\n",
       "    }\n",
       "\n",
       "    .dataframe thead th {\n",
       "        text-align: right;\n",
       "    }\n",
       "</style>\n",
       "<table border=\"1\" class=\"dataframe\">\n",
       "  <thead>\n",
       "    <tr style=\"text-align: right;\">\n",
       "      <th></th>\n",
       "      <th>age</th>\n",
       "      <th>workclass</th>\n",
       "      <th>fnlwgt</th>\n",
       "      <th>education</th>\n",
       "      <th>education-num</th>\n",
       "      <th>marital-status</th>\n",
       "      <th>occupation</th>\n",
       "      <th>relationship</th>\n",
       "      <th>race</th>\n",
       "      <th>sex</th>\n",
       "      <th>capital-gain</th>\n",
       "      <th>capital-loss</th>\n",
       "      <th>hours-per-week</th>\n",
       "      <th>&gt;50K,&lt;=50K</th>\n",
       "    </tr>\n",
       "  </thead>\n",
       "  <tbody>\n",
       "    <tr>\n",
       "      <th>0</th>\n",
       "      <td>34</td>\n",
       "      <td>Local-gov</td>\n",
       "      <td>284843</td>\n",
       "      <td>HS-grad</td>\n",
       "      <td>9</td>\n",
       "      <td>Never-married</td>\n",
       "      <td>Farming-fishing</td>\n",
       "      <td>Not-in-family</td>\n",
       "      <td>Black</td>\n",
       "      <td>Male</td>\n",
       "      <td>594</td>\n",
       "      <td>0</td>\n",
       "      <td>60</td>\n",
       "      <td>&lt;=50K</td>\n",
       "    </tr>\n",
       "    <tr>\n",
       "      <th>1</th>\n",
       "      <td>40</td>\n",
       "      <td>Private</td>\n",
       "      <td>190290</td>\n",
       "      <td>Some-college</td>\n",
       "      <td>10</td>\n",
       "      <td>Divorced</td>\n",
       "      <td>Sales</td>\n",
       "      <td>Not-in-family</td>\n",
       "      <td>White</td>\n",
       "      <td>Male</td>\n",
       "      <td>0</td>\n",
       "      <td>0</td>\n",
       "      <td>40</td>\n",
       "      <td>&lt;=50K</td>\n",
       "    </tr>\n",
       "    <tr>\n",
       "      <th>2</th>\n",
       "      <td>36</td>\n",
       "      <td>Local-gov</td>\n",
       "      <td>177858</td>\n",
       "      <td>Bachelors</td>\n",
       "      <td>13</td>\n",
       "      <td>Married-civ-spouse</td>\n",
       "      <td>Prof-specialty</td>\n",
       "      <td>Own-child</td>\n",
       "      <td>White</td>\n",
       "      <td>Male</td>\n",
       "      <td>0</td>\n",
       "      <td>0</td>\n",
       "      <td>40</td>\n",
       "      <td>&lt;=50K</td>\n",
       "    </tr>\n",
       "    <tr>\n",
       "      <th>3</th>\n",
       "      <td>22</td>\n",
       "      <td>Private</td>\n",
       "      <td>184756</td>\n",
       "      <td>Some-college</td>\n",
       "      <td>10</td>\n",
       "      <td>Never-married</td>\n",
       "      <td>Sales</td>\n",
       "      <td>Own-child</td>\n",
       "      <td>White</td>\n",
       "      <td>Female</td>\n",
       "      <td>0</td>\n",
       "      <td>0</td>\n",
       "      <td>30</td>\n",
       "      <td>&lt;=50K</td>\n",
       "    </tr>\n",
       "    <tr>\n",
       "      <th>4</th>\n",
       "      <td>47</td>\n",
       "      <td>Private</td>\n",
       "      <td>149700</td>\n",
       "      <td>Bachelors</td>\n",
       "      <td>13</td>\n",
       "      <td>Married-civ-spouse</td>\n",
       "      <td>Tech-support</td>\n",
       "      <td>Husband</td>\n",
       "      <td>White</td>\n",
       "      <td>Male</td>\n",
       "      <td>15024</td>\n",
       "      <td>0</td>\n",
       "      <td>40</td>\n",
       "      <td>&gt;50K</td>\n",
       "    </tr>\n",
       "  </tbody>\n",
       "</table>\n",
       "</div>"
      ],
      "text/plain": [
       "   age  workclass  fnlwgt     education  education-num      marital-status  \\\n",
       "0   34  Local-gov  284843       HS-grad              9       Never-married   \n",
       "1   40    Private  190290  Some-college             10            Divorced   \n",
       "2   36  Local-gov  177858     Bachelors             13  Married-civ-spouse   \n",
       "3   22    Private  184756  Some-college             10       Never-married   \n",
       "4   47    Private  149700     Bachelors             13  Married-civ-spouse   \n",
       "\n",
       "        occupation   relationship   race     sex  capital-gain  capital-loss  \\\n",
       "0  Farming-fishing  Not-in-family  Black    Male           594             0   \n",
       "1            Sales  Not-in-family  White    Male             0             0   \n",
       "2   Prof-specialty      Own-child  White    Male             0             0   \n",
       "3            Sales      Own-child  White  Female             0             0   \n",
       "4     Tech-support        Husband  White    Male         15024             0   \n",
       "\n",
       "   hours-per-week >50K,<=50K  \n",
       "0              60      <=50K  \n",
       "1              40      <=50K  \n",
       "2              40      <=50K  \n",
       "3              30      <=50K  \n",
       "4              40       >50K  "
      ]
     },
     "execution_count": 39,
     "metadata": {},
     "output_type": "execute_result"
    }
   ],
   "source": [
    "import pandas as pd\n",
    "import matplotlib.pyplot as plt\n",
    "data = pd.read_csv(\"data.adult.csv\")\n",
    "print(len(data))\n",
    "print(data.columns)\n",
    "data.head()"
   ]
  },
  {
   "cell_type": "markdown",
   "metadata": {},
   "source": [
    " Найдем все признаки, имеющие пропущенные значения. Удалим из выборки все объекты с пропусками:"
   ]
  },
  {
   "cell_type": "code",
   "execution_count": 38,
   "metadata": {},
   "outputs": [
    {
     "name": "stdout",
     "output_type": "stream",
     "text": [
      "933\n",
      "15347\n"
     ]
    }
   ],
   "source": [
    "linesdrop=[]\n",
    "for i in range(len(data)):\n",
    "    for j in range(len(data.columns)):\n",
    "        if data.iloc[i][j]=='?':\n",
    "            linesdrop.append(i)\n",
    "            break\n",
    "data.drop(index=linesdrop, inplace=True)\n",
    "print(len(linesdrop))\n",
    "print(len(data))"
   ]
  },
  {
   "cell_type": "markdown",
   "metadata": {},
   "source": [
    "Обычно после загрузки датасета всегда необходима его некоторая предобработка. В данном случае она будет заключаться в следующем: \n",
    "\n",
    " - Выделим целевую переменную в отдельную переменную, удалим ее из датасета и преобразуем к бинарному формату.\n",
    " - Не все признаки являются вещественными. В начале мы будем работать только с вещественными признаками. Выделим их отдельно."
   ]
  },
  {
   "cell_type": "code",
   "execution_count": 245,
   "metadata": {},
   "outputs": [
    {
     "data": {
      "text/plain": [
       "0    0.752088\n",
       "1    0.247912\n",
       "Name: >50K,<=50K, dtype: float64"
      ]
     },
     "execution_count": 245,
     "metadata": {},
     "output_type": "execute_result"
    }
   ],
   "source": [
    "y =(data['>50K,<=50K']=='>50K').astype('int')\n",
    "x = data.drop(columns='>50K,<=50K')\n",
    "y1=y\n",
    "y.value_counts(normalize=True)"
   ]
  },
  {
   "cell_type": "code",
   "execution_count": 53,
   "metadata": {},
   "outputs": [
    {
     "data": {
      "text/html": [
       "<div>\n",
       "<style scoped>\n",
       "    .dataframe tbody tr th:only-of-type {\n",
       "        vertical-align: middle;\n",
       "    }\n",
       "\n",
       "    .dataframe tbody tr th {\n",
       "        vertical-align: top;\n",
       "    }\n",
       "\n",
       "    .dataframe thead th {\n",
       "        text-align: right;\n",
       "    }\n",
       "</style>\n",
       "<table border=\"1\" class=\"dataframe\">\n",
       "  <thead>\n",
       "    <tr style=\"text-align: right;\">\n",
       "      <th></th>\n",
       "      <th>age</th>\n",
       "      <th>fnlwgt</th>\n",
       "      <th>capital-gain</th>\n",
       "      <th>capital-loss</th>\n",
       "      <th>hours-per-week</th>\n",
       "    </tr>\n",
       "  </thead>\n",
       "  <tbody>\n",
       "    <tr>\n",
       "      <th>0</th>\n",
       "      <td>34</td>\n",
       "      <td>284843</td>\n",
       "      <td>594</td>\n",
       "      <td>0</td>\n",
       "      <td>60</td>\n",
       "    </tr>\n",
       "    <tr>\n",
       "      <th>1</th>\n",
       "      <td>40</td>\n",
       "      <td>190290</td>\n",
       "      <td>0</td>\n",
       "      <td>0</td>\n",
       "      <td>40</td>\n",
       "    </tr>\n",
       "    <tr>\n",
       "      <th>2</th>\n",
       "      <td>36</td>\n",
       "      <td>177858</td>\n",
       "      <td>0</td>\n",
       "      <td>0</td>\n",
       "      <td>40</td>\n",
       "    </tr>\n",
       "    <tr>\n",
       "      <th>3</th>\n",
       "      <td>22</td>\n",
       "      <td>184756</td>\n",
       "      <td>0</td>\n",
       "      <td>0</td>\n",
       "      <td>30</td>\n",
       "    </tr>\n",
       "    <tr>\n",
       "      <th>4</th>\n",
       "      <td>47</td>\n",
       "      <td>149700</td>\n",
       "      <td>15024</td>\n",
       "      <td>0</td>\n",
       "      <td>40</td>\n",
       "    </tr>\n",
       "  </tbody>\n",
       "</table>\n",
       "</div>"
      ],
      "text/plain": [
       "   age  fnlwgt  capital-gain  capital-loss  hours-per-week\n",
       "0   34  284843           594             0              60\n",
       "1   40  190290             0             0              40\n",
       "2   36  177858             0             0              40\n",
       "3   22  184756             0             0              30\n",
       "4   47  149700         15024             0              40"
      ]
     },
     "execution_count": 53,
     "metadata": {},
     "output_type": "execute_result"
    }
   ],
   "source": [
    "x1=x[['age','fnlwgt','capital-gain', 'capital-loss','hours-per-week']]\n",
    "x1.head()"
   ]
  },
  {
   "cell_type": "markdown",
   "metadata": {},
   "source": [
    "# Обучение классификаторов на вещественных признаках\n",
    "\n",
    "В данном разделе будем работать только с вещественными признаками и целевой переменной.\n",
    "\n",
    "В начале посмотрим как работает подбор параметров по сетке и как влияет на качество разбиение выборки. Сейчас и далее будем рассматривать 5 алгоритмов:\n",
    " - [kNN](http://scikit-learn.org/stable/modules/generated/sklearn.neighbors.KNeighborsClassifier.html)\n",
    " - [DecisonTree](http://scikit-learn.org/stable/modules/generated/sklearn.tree.DecisionTreeClassifier.html#sklearn.tree.DecisionTreeClassifier)\n",
    " - [SGD Linear Classifier](http://scikit-learn.org/stable/modules/generated/sklearn.linear_model.SGDClassifier.html)\n",
    " - [RandomForest](http://scikit-learn.org/stable/modules/generated/sklearn.ensemble.RandomForestClassifier.html)\n",
    " - [GradientBoosting](https://scikit-learn.org/stable/modules/generated/sklearn.ensemble.GradientBoostingClassifier.html)\n",
    "\n",
    "Для начала у первых трёх алгоритмов выберем один гиперпараметр, который будем оптимизировать:\n",
    " - kNN — число соседей (*n_neighbors*)\n",
    " - DecisonTree — глубина дерева (*max_depth*)\n",
    " - SGD Linear Classifier — оптимизируемая функция (*loss*)\n",
    " \n",
    "Для подбора гиперпараметров воспользуемся перебором по сетке, который реализован в классе [GridSearchCV](https://scikit-learn.org/stable/modules/generated/sklearn.model_selection.GridSearchCV.html). В качестве схемы кросс-валидации будем использовать 5-fold cv, которую можно задать с помощью класса [KFold](https://scikit-learn.org/stable/modules/generated/sklearn.model_selection.KFold.html).\n",
    "\n",
    " Для каждого из первых трех алгоритмов подберем оптимальные значения указанных гиперпараметров. Для каждого из этих алгоритмов построем график среднего качества по кросс-валидации при заданном значении гиперпараметра, на котором также отобразите доверительный интервал [m-std, m+std], где m - среднее, std - стандартное отклонение."
   ]
  },
  {
   "cell_type": "markdown",
   "metadata": {},
   "source": [
    "## KNN"
   ]
  },
  {
   "cell_type": "code",
   "execution_count": 144,
   "metadata": {},
   "outputs": [
    {
     "data": {
      "text/plain": [
       "(0.6428335751287712, {'n_neighbors': 5})"
      ]
     },
     "execution_count": 144,
     "metadata": {},
     "output_type": "execute_result"
    }
   ],
   "source": [
    "from sklearn.model_selection import GridSearchCV\n",
    "from sklearn.neighbors import KNeighborsClassifier\n",
    "import numpy as np\n",
    "from sklearn.metrics import roc_auc_score\n",
    "from sklearn.model_selection import KFold\n",
    "from sklearn.model_selection import cross_validate\n",
    "\n",
    "\n",
    "params1 = {'n_neighbors' : np.arange(2, 20, 1)}\n",
    "model1 = KNeighborsClassifier()\n",
    "\n",
    "gs1 = GridSearchCV(model1, params1, cv=KFold(n_splits=5, random_state=13, shuffle=True), scoring='roc_auc')\n",
    "gs1.fit(x1, y)\n",
    "gs1.best_score_, gs1.best_params_\n"
   ]
  },
  {
   "cell_type": "code",
   "execution_count": 145,
   "metadata": {},
   "outputs": [
    {
     "data": {
      "image/png": "[encoded data removed]",
      "text/plain": [
       "<Figure size 1008x504 with 1 Axes>"
      ]
     },
     "metadata": {
      "needs_background": "light"
     },
     "output_type": "display_data"
    }
   ],
   "source": [
    "from sklearn.metrics import roc_auc_score\n",
    "from sklearn.model_selection import cross_val_score\n",
    "import seaborn as sns\n",
    "import matplotlib.pyplot as plt\n",
    "score1=[]\n",
    "score1min=[]\n",
    "score1max=[]\n",
    "for j in np.arange(2, 20, 1):\n",
    "    model1 = KNeighborsClassifier(n_neighbors=j)\n",
    "    model1.fit(x1, y)\n",
    "    score1.append(round(cross_val_score(model1, x1, y, cv=KFold(n_splits=5, random_state=13, shuffle=True), scoring='roc_auc').mean(), 3))\n",
    "    score1min.append(round(cross_val_score(model1, x1, y, cv=KFold(n_splits=5, random_state=13, shuffle=True), scoring='roc_auc').mean(), 3)-\n",
    "                round(cross_val_score(model1, x1, y, cv=KFold(n_splits=5, random_state=13, shuffle=True), scoring='roc_auc').std(), 3))\n",
    "    score1max.append(round(cross_val_score(model1, x1, y, cv=KFold(n_splits=5, random_state=13, shuffle=True), scoring='roc_auc').mean(), 3)+\n",
    "                round(cross_val_score(model1, x1, y, cv=KFold(n_splits=5, random_state=13, shuffle=True), scoring='roc_auc').std(), 3))\n",
    "plt.figure(figsize=(14, 7))\n",
    "plt.plot(np.arange(2, 20, 1), score1, color='k')\n",
    "plt.fill_between(np.arange(2, 20, 1), score1, score1min, alpha=.5, linewidth=0, color='c')\n",
    "plt.plot(np.arange(2, 20, 1), score1min, color='c')\n",
    "plt.fill_between(np.arange(2, 20, 1), score1, score1max, alpha=.5, linewidth=0,color='c')\n",
    "plt.plot(np.arange(2, 20, 1), score1max, color='c')\n",
    "plt.title(\"Dependence of roc-auc on n_neighbors\")\n",
    "plt.xlabel(\"n_neighbors\")\n",
    "plt.ylabel(\"roc_auc\")\n",
    "plt.show()"
   ]
  },
  {
   "cell_type": "markdown",
   "metadata": {},
   "source": [
    "## Decision tree"
   ]
  },
  {
   "cell_type": "code",
   "execution_count": 224,
   "metadata": {},
   "outputs": [
    {
     "data": {
      "text/plain": [
       "(0.8126342313682405, {'max_depth': 7})"
      ]
     },
     "execution_count": 224,
     "metadata": {},
     "output_type": "execute_result"
    }
   ],
   "source": [
    "from sklearn.tree import DecisionTreeClassifier, DecisionTreeRegressor, plot_tree\n",
    "tree = DecisionTreeClassifier(random_state=13)\n",
    "params2 = {'max_depth' : np.arange(2, 20, 1)}\n",
    "gs2 = GridSearchCV(tree, params2, cv=KFold(n_splits=5, random_state=13, shuffle=True), scoring='roc_auc')\n",
    "gs2.fit(x1, y)\n",
    "gs2.best_score_, gs2.best_params_\n"
   ]
  },
  {
   "cell_type": "code",
   "execution_count": 147,
   "metadata": {},
   "outputs": [
    {
     "data": {
      "image/png": "[encoded data removed]",
      "text/plain": [
       "<Figure size 1008x504 with 1 Axes>"
      ]
     },
     "metadata": {
      "needs_background": "light"
     },
     "output_type": "display_data"
    }
   ],
   "source": [
    "\n",
    "from sklearn.metrics import roc_auc_score\n",
    "from sklearn.model_selection import cross_val_score\n",
    "import seaborn as sns\n",
    "import matplotlib.pyplot as plt\n",
    "score2=[]\n",
    "score2min=[]\n",
    "score2max=[]\n",
    "for m in np.arange(2, 20, 1):\n",
    "    tree = DecisionTreeRegressor(random_state=13,max_depth=m)\n",
    "    tree.fit(x1, y)\n",
    "    score2.append(round(cross_val_score(tree, x1, y, cv=KFold(n_splits=5, random_state=13, shuffle=True), scoring='roc_auc').mean(), 3))\n",
    "    score2min.append(round(cross_val_score(tree, x1, y, cv=KFold(n_splits=5, random_state=13, shuffle=True), scoring='roc_auc').mean(), 3)-\n",
    "                round(cross_val_score(tree, x1, y, cv=KFold(n_splits=5, random_state=13, shuffle=True), scoring='roc_auc').std(), 3))\n",
    "    score2max.append(round(cross_val_score(tree, x1, y, cv=KFold(n_splits=5, random_state=13, shuffle=True), scoring='roc_auc').mean(), 3)+\n",
    "                round(cross_val_score(tree, x1, y, cv=KFold(n_splits=5, random_state=13, shuffle=True), scoring='roc_auc').std(), 3))\n",
    "plt.figure(figsize=(14, 7))\n",
    "plt.plot(np.arange(2, 20, 1), score2, color='k')\n",
    "plt.fill_between(np.arange(2, 20, 1), score2, score2min, alpha=.5, linewidth=0, color='c')\n",
    "plt.plot(np.arange(2, 20, 1), score2min, color='c')\n",
    "plt.fill_between(np.arange(2, 20, 1), score2, score2max, alpha=.5, linewidth=0,color='c')\n",
    "plt.plot(np.arange(2, 20, 1), score2max, color='c')\n",
    "plt.title(\"Dependence of roc-auc on max depth\")\n",
    "plt.xlabel(\"max depth\")\n",
    "plt.ylabel(\"roc_auc\")\n",
    "plt.show()"
   ]
  },
  {
   "cell_type": "markdown",
   "metadata": {},
   "source": [
    "## SGD Linear Classifier"
   ]
  },
  {
   "cell_type": "code",
   "execution_count": 140,
   "metadata": {},
   "outputs": [
    {
     "data": {
      "text/plain": [
       "(0.612025649006721, {'loss': 'hinge'})"
      ]
     },
     "execution_count": 140,
     "metadata": {},
     "output_type": "execute_result"
    }
   ],
   "source": [
    "import warnings\n",
    "\n",
    "warnings.filterwarnings('ignore')\n",
    "from sklearn.linear_model import SGDClassifier\n",
    "params3 = {'loss' : ['hinge', 'log', 'modified_huber',\n",
    "                     'squared_hinge','perceptron',\n",
    "                     'huber', 'epsilon_insensitive', 'squared_epsilon_insensitive']}\n",
    "model2=SGDClassifier(random_state=13)\n",
    "gs3=GridSearchCV(model2, params3, cv=KFold(n_splits=5, random_state=13, shuffle=True), scoring='roc_auc')\n",
    "gs3.fit(x1, y)\n",
    "gs3.best_score_, gs3.best_params_\n"
   ]
  },
  {
   "cell_type": "code",
   "execution_count": 141,
   "metadata": {},
   "outputs": [
    {
     "data": {
      "image/png": "[encoded data removed]",
      "text/plain": [
       "<Figure size 1008x504 with 1 Axes>"
      ]
     },
     "metadata": {
      "needs_background": "light"
     },
     "output_type": "display_data"
    }
   ],
   "source": [
    "from sklearn.metrics import roc_auc_score\n",
    "from sklearn.model_selection import cross_val_score\n",
    "import seaborn as sns\n",
    "import matplotlib.pyplot as plt\n",
    "score3=[]\n",
    "score3min=[]\n",
    "score3max=[]\n",
    "s=['hinge', 'log', 'modified_huber',\n",
    "                     'squared_hinge','perceptron',\n",
    "                     'huber', 'epsilon_insensitive', 'squared_epsilon_insensitive']\n",
    "for w in s:\n",
    "    model2 = SGDClassifier(random_state=13, loss=w)\n",
    "    model2.fit(x1, y)\n",
    "    score3.append(round(cross_val_score(model2, x1, y, cv=KFold(n_splits=5, random_state=13, shuffle=True), scoring='roc_auc').mean(), 3))\n",
    "    score3min.append(round(cross_val_score(model2, x1, y, cv=KFold(n_splits=5, random_state=13, shuffle=True), scoring='roc_auc').mean(), 3)-\n",
    "                round(cross_val_score(model2, x1, y, cv=KFold(n_splits=5, random_state=13, shuffle=True), scoring='roc_auc').std(), 3))\n",
    "    score3max.append(round(cross_val_score(model2, x1, y, cv=KFold(n_splits=5, random_state=13, shuffle=True), scoring='roc_auc').mean(), 3)+\n",
    "                round(cross_val_score(model2, x1, y, cv=KFold(n_splits=5, random_state=13, shuffle=True), scoring='roc_auc').std(), 3))\n",
    "plt.figure(figsize=(14, 7))\n",
    "plt.plot(s, score3, color='k')\n",
    "plt.fill_between(s, score3, score3min, alpha=.5, linewidth=0, color='c')\n",
    "plt.plot(s, score3min, color='c')\n",
    "plt.fill_between(s, score3, score3max, alpha=.5, linewidth=0,color='c')\n",
    "plt.plot(s, score3max, color='c')\n",
    "plt.title(\"Dependence of roc-auc on loss\")\n",
    "plt.xlabel(\"loss\")\n",
    "plt.ylabel(\"roc_auc\")\n",
    "plt.show()"
   ]
  },
  {
   "cell_type": "markdown",
   "metadata": {},
   "source": [
    "Наибольшее стандартное отклонение Roc_auc на графике зависимости от количества соседей в моделе KNN;\n",
    "Функция зависимости Roc_auc от максимальной глубины дерева в моделе DecisionTree - выпуклая функция"
   ]
  },
  {
   "cell_type": "markdown",
   "metadata": {},
   "source": [
    "## Random Forest"
   ]
  },
  {
   "cell_type": "markdown",
   "metadata": {},
   "source": [
    "Также подберём число деревьев (*n_estimators*) в алгоритме RandomForest. Как известно, в общем случае Random Forest не переобучается с увеличением количества деревьев, так что при увеличении этого гиперпараметра его качество не будет становиться хуже. Поэтому подберем такое количество деревьев, при котором качество на кросс-валидации стабилизируется. Для проведения этого эксперимента не нужно с нуля обучать много случайных лесов с различными количествами деревьев. Обучим один случайный лес с максимальным интересным количеством деревьев, а затем рассмотрим подмножества разных размеров, состоящие из деревьев построенного леса (поле [*estimators_*](http://scikit-learn.org/stable/modules/generated/sklearn.ensemble.RandomForestClassifier.html)). В дальнейших экспериментах будем использовать это количество деревьев:"
   ]
  },
  {
   "cell_type": "code",
   "execution_count": 189,
   "metadata": {},
   "outputs": [
    {
     "name": "stdout",
     "output_type": "stream",
     "text": [
      "53\n"
     ]
    }
   ],
   "source": [
    "from sklearn.ensemble import RandomForestClassifier, RandomForestRegressor\n",
    "\n",
    "kf = KFold(n_splits=5, shuffle=True, random_state=13)\n",
    "kf.split(x1)\n",
    "forest = RandomForestClassifier(n_estimators=100, random_state=13)\n",
    "forest.fit(x1, y)\n",
    "final=round(roc_auc_score(forest.predict(x1),y),3)\n",
    "estimators = forest.estimators_\n",
    "def predict1(i):\n",
    "    forest.estimators_ = estimators[0:i] \n",
    "    return forest.predict(x1)\n",
    "for i in range(1,101):\n",
    "    if round(roc_auc_score(predict1(i), y).mean(), 3)==final:\n",
    "        print(i)\n",
    "        break"
   ]
  },
  {
   "cell_type": "markdown",
   "metadata": {},
   "source": [
    "## Gradient Boosting"
   ]
  },
  {
   "cell_type": "markdown",
   "metadata": {},
   "source": [
    "Подберём число деревьев (*n_estimators*) в алгоритме GradientBoosting. Мы знаем, что ошибка бустинга на тестовых данных, как правило, имеет U-образную форму, то есть сначала уменьшается, а при достижении некоторого числа деревьев начинает расти. Нарисуем график ошибки в зависимости от числа деревьев. Подберем n_estimators, соответствующий минимуму ошибки:"
   ]
  },
  {
   "cell_type": "code",
   "execution_count": 221,
   "metadata": {},
   "outputs": [
    {
     "name": "stdout",
     "output_type": "stream",
     "text": [
      "0.83 157\n"
     ]
    }
   ],
   "source": [
    "from sklearn.ensemble import GradientBoostingClassifier\n",
    "from sklearn.model_selection import train_test_split\n",
    "x1_train, x1_test, y_train, y_test = train_test_split(x1, y, random_state=13)\n",
    "score4=[]\n",
    "boost = GradientBoostingClassifier(random_state=13,n_estimators=1)\n",
    "boost.fit(x1_train, y_train)\n",
    "l=1\n",
    "s=round(cross_val_score(boost, x1_test, y_test, cv=KFold(n_splits=5, random_state=13, shuffle=True), scoring='roc_auc').mean(), 3)\n",
    "score4.append(s)\n",
    "for h in np.arange(2, 200, 1):\n",
    "    boost = GradientBoostingClassifier(random_state=13,n_estimators=h)\n",
    "    boost.fit(x1_train, y_train)\n",
    "    score4.append(round(cross_val_score(boost, x1_test, y_test, cv=KFold(n_splits=5, random_state=13, shuffle=True), scoring='roc_auc').mean(), 3))\n",
    "    if score4[h-1]>s:\n",
    "        s=score4[h-1]\n",
    "        l=h\n",
    "print(s,l)"
   ]
  },
  {
   "cell_type": "code",
   "execution_count": 204,
   "metadata": {},
   "outputs": [
    {
     "data": {
      "image/png": "[encoded data removed]",
      "text/plain": [
       "<Figure size 1008x504 with 1 Axes>"
      ]
     },
     "metadata": {
      "needs_background": "light"
     },
     "output_type": "display_data"
    }
   ],
   "source": [
    "from sklearn.metrics import roc_auc_score\n",
    "from sklearn.model_selection import cross_val_score\n",
    "import seaborn as sns\n",
    "import matplotlib.pyplot as plt\n",
    "plt.figure(figsize=(14, 7))\n",
    "plt.plot(np.arange(1, 200, 1), score4, color='k')\n",
    "plt.title(\"Dependence of neg_log_loss on n_estimators\")\n",
    "plt.xlabel(\"n_estimators\")\n",
    "plt.ylabel(\"neg_log_loss\")\n",
    "plt.show()"
   ]
  },
  {
   "cell_type": "markdown",
   "metadata": {},
   "source": [
    "# Масштабирование признаков"
   ]
  },
  {
   "cell_type": "markdown",
   "metadata": {},
   "source": [
    "При обучении алгоритмов стоит обращать внимание не только на качество, но и каким образом они работают с данными. В этой задаче получилось так, что некоторые из используемых алгоритмов чувствительны к масштабу признаков. Чтобы убедиться, что это как-то могло повлиять на качество давайте посмотрим на сами признаки.\n",
    "\n",
    "Построим гистограммы для признаков *age*, *fnlwgt*, *capital-gain*. Глядя на получившиеся графики, поймем, в чем заключается особенность данных, может ли масшитабирование повлиять на работу этих алгоритмов:"
   ]
  },
  {
   "cell_type": "code",
   "execution_count": 209,
   "metadata": {},
   "outputs": [
    {
     "data": {
      "image/png": "[encoded data removed]",
      "text/plain": [
       "<Figure size 1008x504 with 1 Axes>"
      ]
     },
     "metadata": {
      "needs_background": "light"
     },
     "output_type": "display_data"
    }
   ],
   "source": [
    "plt.figure(figsize=(14, 7))\n",
    "sns_plot = sns.distplot(x1['age'])\n",
    "fig = sns_plot.get_figure()"
   ]
  },
  {
   "cell_type": "code",
   "execution_count": 214,
   "metadata": {},
   "outputs": [
    {
     "data": {
      "image/png": "[encoded data removed]",
      "text/plain": [
       "<Figure size 1008x504 with 1 Axes>"
      ]
     },
     "metadata": {
      "needs_background": "light"
     },
     "output_type": "display_data"
    }
   ],
   "source": [
    "plt.figure(figsize=(14, 7))\n",
    "sns_plot = sns.distplot(x1['fnlwgt'])\n",
    "fig = sns_plot.get_figure()"
   ]
  },
  {
   "cell_type": "code",
   "execution_count": 213,
   "metadata": {},
   "outputs": [
    {
     "data": {
      "image/png": "[encoded data removed]",
      "text/plain": [
       "<Figure size 1008x504 with 1 Axes>"
      ]
     },
     "metadata": {
      "needs_background": "light"
     },
     "output_type": "display_data"
    }
   ],
   "source": [
    "plt.figure(figsize=(14, 7))\n",
    "sns_plot = sns.distplot(x1['capital-gain'])\n",
    "fig = sns_plot.get_figure()"
   ]
  },
  {
   "cell_type": "markdown",
   "metadata": {},
   "source": [
    "Особенность данных в том, что для большинства объектов capital-gain равен нулю, а для остальных он очень большой. \n",
    "Объекты выбраны странным образом относительно age. График fnlwgt похож на логнормальное распредление. \n",
    "Масштабирование необходимо для capital-gain, алгоритм мог бы улучшиться при масштабировании."
   ]
  },
  {
   "cell_type": "markdown",
   "metadata": {},
   "source": [
    "Масштабирование признаков можно выполнить, например, одним из следующих способов способами:\n",
    " - $x_{new} = \\dfrac{x - \\mu}{\\sigma}$, где $\\mu, \\sigma$ — среднее и стандартное отклонение значения признака по всей выборке (см. функцию [scale](http://scikit-learn.org/stable/modules/generated/sklearn.preprocessing.scale.html))\n",
    " - $x_{new} = \\dfrac{x - x_{min}}{x_{max} - x_{min}}$, где $[x_{min}, x_{max}]$ — минимальный интервал значений признака\n",
    "\n",
    "Похожие схемы масштабирования приведены в классах [StandardScaler](http://scikit-learn.org/stable/modules/generated/sklearn.preprocessing.StandardScaler.html#sklearn.preprocessing.StandardScaler) и [MinMaxScaler](http://scikit-learn.org/stable/modules/generated/sklearn.preprocessing.MinMaxScaler.html#sklearn.preprocessing.MinMaxScaler).\n",
    " \n",
    "Масштабируем все вещественные признаки одним из указанных способов и подберем оптимальные значения гиперпараметров аналогично пункту выше:"
   ]
  },
  {
   "cell_type": "code",
   "execution_count": 216,
   "metadata": {},
   "outputs": [],
   "source": [
    "from sklearn.preprocessing import StandardScaler\n",
    "ss = StandardScaler()\n",
    "x2 = ss.fit_transform(x1)"
   ]
  },
  {
   "cell_type": "markdown",
   "metadata": {},
   "source": [
    "## KNN"
   ]
  },
  {
   "cell_type": "code",
   "execution_count": 217,
   "metadata": {},
   "outputs": [
    {
     "data": {
      "text/plain": [
       "(0.7907255936431679, {'n_neighbors': 19})"
      ]
     },
     "execution_count": 217,
     "metadata": {},
     "output_type": "execute_result"
    }
   ],
   "source": [
    "params1 = {'n_neighbors' : np.arange(2, 20, 1)}\n",
    "model1 = KNeighborsClassifier()\n",
    "\n",
    "gs1 = GridSearchCV(model1, params1, cv=KFold(n_splits=5, random_state=13, shuffle=True), scoring='roc_auc')\n",
    "gs1.fit(x2, y)\n",
    "gs1.best_score_, gs1.best_params_\n"
   ]
  },
  {
   "cell_type": "markdown",
   "metadata": {},
   "source": [
    "## Decision tree"
   ]
  },
  {
   "cell_type": "code",
   "execution_count": 225,
   "metadata": {},
   "outputs": [
    {
     "data": {
      "text/plain": [
       "(0.8126342313682405, {'max_depth': 7})"
      ]
     },
     "execution_count": 225,
     "metadata": {},
     "output_type": "execute_result"
    }
   ],
   "source": [
    "tree = DecisionTreeClassifier(random_state=13)\n",
    "params2 = {'max_depth' : np.arange(2, 20, 1)}\n",
    "gs2 = GridSearchCV(tree, params2, cv=KFold(n_splits=5, random_state=13, shuffle=True), scoring='roc_auc')\n",
    "gs2.fit(x2, y)\n",
    "gs2.best_score_, gs2.best_params_\n"
   ]
  },
  {
   "cell_type": "markdown",
   "metadata": {},
   "source": [
    "## SGD Linear Classifier"
   ]
  },
  {
   "cell_type": "code",
   "execution_count": 219,
   "metadata": {},
   "outputs": [
    {
     "data": {
      "text/plain": [
       "(0.7750199875692806, {'loss': 'log'})"
      ]
     },
     "execution_count": 219,
     "metadata": {},
     "output_type": "execute_result"
    }
   ],
   "source": [
    "import warnings\n",
    "\n",
    "warnings.filterwarnings('ignore')\n",
    "from sklearn.linear_model import SGDClassifier\n",
    "params3 = {'loss' : ['hinge', 'log', 'modified_huber',\n",
    "                     'squared_hinge','perceptron',\n",
    "                     'huber', 'epsilon_insensitive', 'squared_epsilon_insensitive']}\n",
    "model2=SGDClassifier(random_state=13)\n",
    "gs3=GridSearchCV(model2, params3, cv=KFold(n_splits=5, random_state=13, shuffle=True), scoring='roc_auc')\n",
    "gs3.fit(x2, y)\n",
    "gs3.best_score_, gs3.best_params_\n"
   ]
  },
  {
   "cell_type": "markdown",
   "metadata": {},
   "source": [
    "## Random Forest"
   ]
  },
  {
   "cell_type": "code",
   "execution_count": 220,
   "metadata": {},
   "outputs": [
    {
     "name": "stdout",
     "output_type": "stream",
     "text": [
      "53\n"
     ]
    }
   ],
   "source": [
    "kf = KFold(n_splits=5, shuffle=True, random_state=13)\n",
    "kf.split(x2)\n",
    "forest = RandomForestClassifier(n_estimators=100, random_state=13)\n",
    "forest.fit(x2, y)\n",
    "final=round(roc_auc_score(forest.predict(x2),y),3)\n",
    "estimators = forest.estimators_\n",
    "def predict1(i):\n",
    "    forest.estimators_ = estimators[0:i] \n",
    "    return forest.predict(x2)\n",
    "for i in range(1,101):\n",
    "    if round(roc_auc_score(predict1(i), y).mean(), 3)==final:\n",
    "        print(i)\n",
    "        break"
   ]
  },
  {
   "cell_type": "markdown",
   "metadata": {},
   "source": [
    "## Gradient Boosting"
   ]
  },
  {
   "cell_type": "code",
   "execution_count": 222,
   "metadata": {},
   "outputs": [
    {
     "name": "stdout",
     "output_type": "stream",
     "text": [
      "0.83 159\n"
     ]
    }
   ],
   "source": [
    "x2_train, x2_test, y_train, y_test = train_test_split(x2, y, random_state=13)\n",
    "score4=[]\n",
    "boost = GradientBoostingClassifier(random_state=13,n_estimators=1)\n",
    "boost.fit(x2_train, y_train)\n",
    "l=1\n",
    "s=round(cross_val_score(boost, x2_test, y_test, cv=KFold(n_splits=5, random_state=13, shuffle=True), scoring='roc_auc').mean(), 3)\n",
    "score4.append(s)\n",
    "for h in np.arange(2, 200, 1):\n",
    "    boost = GradientBoostingClassifier(random_state=13,n_estimators=h)\n",
    "    boost.fit(x2_train, y_train)\n",
    "    score4.append(round(cross_val_score(boost, x2_test, y_test, cv=KFold(n_splits=5, random_state=13, shuffle=True), scoring='roc_auc').mean(), 3))\n",
    "    if score4[h-1]>s:\n",
    "        s=score4[h-1]\n",
    "        l=h\n",
    "print(s,l)"
   ]
  },
  {
   "cell_type": "markdown",
   "metadata": {},
   "source": [
    "Улучшилось качество у более слабых моделей: у KNN и SGDClassifier"
   ]
  },
  {
   "cell_type": "markdown",
   "metadata": {},
   "source": [
    "# Подбор комбинаций гиперпараметров"
   ]
  },
  {
   "cell_type": "markdown",
   "metadata": {},
   "source": [
    "Теперь сделаем перебор нескольких гиперпараметров по сетке и найдем оптимальные комбинации (лучшее среднее значение качества) для каждого алгоритма в данном случае: \n",
    " - KNN — число соседей (*n_neighbors*) и метрика (*metric*)\n",
    " - DecisonTree — глубина дерева (*max_depth*) и критерий разбиения (*criterion*)\n",
    " - RandomForest — критерий разбиения в деревьях (*criterion*) и *max_features* (при фиксированном количестве деревьев, найденном ранее)\n",
    " - GradientBoosting — критерий разбиения в деревьях (*criterion*) и *max_features* (при фиксированном количестве деревьев, найденном ранее)\n",
    " - SGDClassifier — оптимизируемая функция (*loss*) и *penalty*\n",
    " \n",
    "Эта операция может быть ресурсо- и трудоемкой. Как оптимизировать подбор параметров по сетке сказано в разделе \"Подбор гиперпараметров модели\""
   ]
  },
  {
   "cell_type": "markdown",
   "metadata": {},
   "source": [
    "## KNN"
   ]
  },
  {
   "cell_type": "code",
   "execution_count": 223,
   "metadata": {},
   "outputs": [
    {
     "data": {
      "text/plain": [
       "(0.7927912840306319, {'metric': 'cityblock', 'n_neighbors': 19})"
      ]
     },
     "execution_count": 223,
     "metadata": {},
     "output_type": "execute_result"
    }
   ],
   "source": [
    "params5 = {'n_neighbors' : np.arange(2, 20, 1),\n",
    "           'metric': ['cityblock', 'cosine','euclidean', 'haversine','l1', 'l2', 'manhattan', 'nan_euclidean']}\n",
    "\n",
    "model5 = KNeighborsClassifier()\n",
    "\n",
    "gs5 = GridSearchCV(model5, params5, cv=KFold(n_splits=5, random_state=13, shuffle=True), scoring='roc_auc')\n",
    "gs5.fit(x2, y)\n",
    "gs5.best_score_, gs5.best_params_"
   ]
  },
  {
   "cell_type": "markdown",
   "metadata": {},
   "source": [
    "## Decision tree"
   ]
  },
  {
   "cell_type": "code",
   "execution_count": 226,
   "metadata": {},
   "outputs": [
    {
     "data": {
      "text/plain": [
       "(0.8126342313682405, {'criterion': 'gini', 'max_depth': 7})"
      ]
     },
     "execution_count": 226,
     "metadata": {},
     "output_type": "execute_result"
    }
   ],
   "source": [
    "tree1 = DecisionTreeClassifier(random_state=13)\n",
    "params6 = {'max_depth' : np.arange(2, 20, 1),\n",
    "          'criterion':['gini', 'entropy', 'log_loss']}\n",
    "gs6 = GridSearchCV(tree1, params6, cv=KFold(n_splits=5, random_state=13, shuffle=True), scoring='roc_auc')\n",
    "gs6.fit(x2, y)\n",
    "gs6.best_score_, gs6.best_params_"
   ]
  },
  {
   "cell_type": "markdown",
   "metadata": {},
   "source": [
    "## SGD Linear Classifier"
   ]
  },
  {
   "cell_type": "code",
   "execution_count": 227,
   "metadata": {},
   "outputs": [
    {
     "data": {
      "text/plain": [
       "(0.7754173112360976, {'loss': 'log', 'penalty': 'elasticnet'})"
      ]
     },
     "execution_count": 227,
     "metadata": {},
     "output_type": "execute_result"
    }
   ],
   "source": [
    "import warnings\n",
    "\n",
    "warnings.filterwarnings('ignore')\n",
    "from sklearn.linear_model import SGDClassifier\n",
    "params7 = {'loss' : ['hinge', 'log', 'modified_huber',\n",
    "                     'squared_hinge','perceptron',\n",
    "                     'huber', 'epsilon_insensitive', 'squared_epsilon_insensitive'],\n",
    "          'penalty':['l2', 'l1', 'elasticnet']}\n",
    "model7=SGDClassifier(random_state=13)\n",
    "gs7=GridSearchCV(model7, params7, cv=KFold(n_splits=5, random_state=13, shuffle=True), scoring='roc_auc')\n",
    "gs7.fit(x2, y)\n",
    "gs7.best_score_, gs7.best_params_\n"
   ]
  },
  {
   "cell_type": "markdown",
   "metadata": {},
   "source": [
    "## Random Forest"
   ]
  },
  {
   "cell_type": "code",
   "execution_count": 228,
   "metadata": {},
   "outputs": [
    {
     "data": {
      "text/plain": [
       "(0.7822172681756818, {'criterion': 'entropy', 'max_features': 'sqrt'})"
      ]
     },
     "execution_count": 228,
     "metadata": {},
     "output_type": "execute_result"
    }
   ],
   "source": [
    "forest1=RandomForestClassifier(n_estimators=53, random_state=13)\n",
    "params8 = {'max_features' : ['sqrt', 'log2', 'None'],\n",
    "          'criterion':['gini', 'entropy', 'log_loss']}\n",
    "gs8 = GridSearchCV(forest1, params8, cv=KFold(n_splits=5, random_state=13, shuffle=True), scoring='roc_auc')\n",
    "gs8.fit(x2, y)\n",
    "gs8.best_score_, gs8.best_params_"
   ]
  },
  {
   "cell_type": "markdown",
   "metadata": {},
   "source": [
    "## Gradient Boosting"
   ]
  },
  {
   "cell_type": "code",
   "execution_count": 230,
   "metadata": {},
   "outputs": [
    {
     "data": {
      "text/plain": [
       "(0.8371268588828341, {'criterion': 'friedman_mse', 'max_features': 'auto'})"
      ]
     },
     "execution_count": 230,
     "metadata": {},
     "output_type": "execute_result"
    }
   ],
   "source": [
    "boost1=GradientBoostingClassifier(n_estimators=159, random_state=13)\n",
    "params8 = {'max_features' : ['sqrt', 'log2', 'auto'],\n",
    "          'criterion':['friedman_mse', 'squared_error', 'mse']}\n",
    "gs9 = GridSearchCV(boost1, params8, cv=KFold(n_splits=5, random_state=13, shuffle=True), scoring='roc_auc')\n",
    "gs9.fit(x2, y)\n",
    "gs9.best_score_, gs9.best_params_"
   ]
  },
  {
   "cell_type": "markdown",
   "metadata": {},
   "source": [
    "Лучшее качество у бустинга"
   ]
  },
  {
   "cell_type": "markdown",
   "metadata": {},
   "source": [
    "Дольше обучается лес или бустинг, так как это более сложные алгоритмы. \n",
    "Скорее всего, бустинг обучается дольше, так как каждое новое дерево исправляет ошибку старого."
   ]
  },
  {
   "cell_type": "markdown",
   "metadata": {},
   "source": [
    "# Добавление категориальных признаков в модели\n",
    "\n",
    "Пока мы не использовали нечисловые признаки, которые есть в датасете. Давайте посмотрим, правильно ли мы сделали и увеличится ли качество моделей после добавлениях этих признаков. \n",
    "\n",
    "Преобразуем все категориальные признаки с помощью метода one-hot-encoding (например, это можно сделать с помощью функции [OneHotEncoder](https://scikit-learn.org/stable/modules/generated/sklearn.preprocessing.OneHotEncoder.html), [pandas.get_dummies](http://pandas.pydata.org/pandas-docs/stable/generated/pandas.get_dummies.html) или [DictVectorizer](http://scikit-learn.org/stable/modules/generated/sklearn.feature_extraction.DictVectorizer.html) из sklearn)."
   ]
  },
  {
   "cell_type": "code",
   "execution_count": 268,
   "metadata": {},
   "outputs": [
    {
     "data": {
      "text/html": [
       "<div>\n",
       "<style scoped>\n",
       "    .dataframe tbody tr th:only-of-type {\n",
       "        vertical-align: middle;\n",
       "    }\n",
       "\n",
       "    .dataframe tbody tr th {\n",
       "        vertical-align: top;\n",
       "    }\n",
       "\n",
       "    .dataframe thead th {\n",
       "        text-align: right;\n",
       "    }\n",
       "</style>\n",
       "<table border=\"1\" class=\"dataframe\">\n",
       "  <thead>\n",
       "    <tr style=\"text-align: right;\">\n",
       "      <th></th>\n",
       "      <th>0</th>\n",
       "      <th>1</th>\n",
       "      <th>2</th>\n",
       "      <th>3</th>\n",
       "      <th>4</th>\n",
       "      <th>workclass_?</th>\n",
       "      <th>workclass_Federal-gov</th>\n",
       "      <th>workclass_Local-gov</th>\n",
       "      <th>workclass_Never-worked</th>\n",
       "      <th>workclass_Private</th>\n",
       "      <th>...</th>\n",
       "      <th>relationship_Own-child</th>\n",
       "      <th>relationship_Unmarried</th>\n",
       "      <th>relationship_Wife</th>\n",
       "      <th>race_Amer-Indian-Eskimo</th>\n",
       "      <th>race_Asian-Pac-Islander</th>\n",
       "      <th>race_Black</th>\n",
       "      <th>race_Other</th>\n",
       "      <th>race_White</th>\n",
       "      <th>sex_Female</th>\n",
       "      <th>sex_Male</th>\n",
       "    </tr>\n",
       "  </thead>\n",
       "  <tbody>\n",
       "    <tr>\n",
       "      <th>0</th>\n",
       "      <td>-0.339942</td>\n",
       "      <td>0.894267</td>\n",
       "      <td>-0.062143</td>\n",
       "      <td>-0.215504</td>\n",
       "      <td>1.587927</td>\n",
       "      <td>0</td>\n",
       "      <td>0</td>\n",
       "      <td>1</td>\n",
       "      <td>0</td>\n",
       "      <td>0</td>\n",
       "      <td>...</td>\n",
       "      <td>0</td>\n",
       "      <td>0</td>\n",
       "      <td>0</td>\n",
       "      <td>0</td>\n",
       "      <td>0</td>\n",
       "      <td>1</td>\n",
       "      <td>0</td>\n",
       "      <td>0</td>\n",
       "      <td>0</td>\n",
       "      <td>1</td>\n",
       "    </tr>\n",
       "    <tr>\n",
       "      <th>1</th>\n",
       "      <td>0.100105</td>\n",
       "      <td>0.007787</td>\n",
       "      <td>-0.148709</td>\n",
       "      <td>-0.215504</td>\n",
       "      <td>-0.032711</td>\n",
       "      <td>0</td>\n",
       "      <td>0</td>\n",
       "      <td>0</td>\n",
       "      <td>0</td>\n",
       "      <td>1</td>\n",
       "      <td>...</td>\n",
       "      <td>0</td>\n",
       "      <td>0</td>\n",
       "      <td>0</td>\n",
       "      <td>0</td>\n",
       "      <td>0</td>\n",
       "      <td>0</td>\n",
       "      <td>0</td>\n",
       "      <td>1</td>\n",
       "      <td>0</td>\n",
       "      <td>1</td>\n",
       "    </tr>\n",
       "    <tr>\n",
       "      <th>2</th>\n",
       "      <td>-0.193260</td>\n",
       "      <td>-0.108769</td>\n",
       "      <td>-0.148709</td>\n",
       "      <td>-0.215504</td>\n",
       "      <td>-0.032711</td>\n",
       "      <td>0</td>\n",
       "      <td>0</td>\n",
       "      <td>1</td>\n",
       "      <td>0</td>\n",
       "      <td>0</td>\n",
       "      <td>...</td>\n",
       "      <td>1</td>\n",
       "      <td>0</td>\n",
       "      <td>0</td>\n",
       "      <td>0</td>\n",
       "      <td>0</td>\n",
       "      <td>0</td>\n",
       "      <td>0</td>\n",
       "      <td>1</td>\n",
       "      <td>0</td>\n",
       "      <td>1</td>\n",
       "    </tr>\n",
       "    <tr>\n",
       "      <th>3</th>\n",
       "      <td>-1.220038</td>\n",
       "      <td>-0.044097</td>\n",
       "      <td>-0.148709</td>\n",
       "      <td>-0.215504</td>\n",
       "      <td>-0.843031</td>\n",
       "      <td>0</td>\n",
       "      <td>0</td>\n",
       "      <td>0</td>\n",
       "      <td>0</td>\n",
       "      <td>1</td>\n",
       "      <td>...</td>\n",
       "      <td>1</td>\n",
       "      <td>0</td>\n",
       "      <td>0</td>\n",
       "      <td>0</td>\n",
       "      <td>0</td>\n",
       "      <td>0</td>\n",
       "      <td>0</td>\n",
       "      <td>1</td>\n",
       "      <td>1</td>\n",
       "      <td>0</td>\n",
       "    </tr>\n",
       "    <tr>\n",
       "      <th>4</th>\n",
       "      <td>0.613495</td>\n",
       "      <td>-0.372764</td>\n",
       "      <td>2.040794</td>\n",
       "      <td>-0.215504</td>\n",
       "      <td>-0.032711</td>\n",
       "      <td>0</td>\n",
       "      <td>0</td>\n",
       "      <td>0</td>\n",
       "      <td>0</td>\n",
       "      <td>1</td>\n",
       "      <td>...</td>\n",
       "      <td>0</td>\n",
       "      <td>0</td>\n",
       "      <td>0</td>\n",
       "      <td>0</td>\n",
       "      <td>0</td>\n",
       "      <td>0</td>\n",
       "      <td>0</td>\n",
       "      <td>1</td>\n",
       "      <td>0</td>\n",
       "      <td>1</td>\n",
       "    </tr>\n",
       "    <tr>\n",
       "      <th>...</th>\n",
       "      <td>...</td>\n",
       "      <td>...</td>\n",
       "      <td>...</td>\n",
       "      <td>...</td>\n",
       "      <td>...</td>\n",
       "      <td>...</td>\n",
       "      <td>...</td>\n",
       "      <td>...</td>\n",
       "      <td>...</td>\n",
       "      <td>...</td>\n",
       "      <td>...</td>\n",
       "      <td>...</td>\n",
       "      <td>...</td>\n",
       "      <td>...</td>\n",
       "      <td>...</td>\n",
       "      <td>...</td>\n",
       "      <td>...</td>\n",
       "      <td>...</td>\n",
       "      <td>...</td>\n",
       "      <td>...</td>\n",
       "      <td>...</td>\n",
       "    </tr>\n",
       "    <tr>\n",
       "      <th>16275</th>\n",
       "      <td>-1.000014</td>\n",
       "      <td>3.049439</td>\n",
       "      <td>-0.148709</td>\n",
       "      <td>-0.215504</td>\n",
       "      <td>-0.032711</td>\n",
       "      <td>0</td>\n",
       "      <td>0</td>\n",
       "      <td>1</td>\n",
       "      <td>0</td>\n",
       "      <td>0</td>\n",
       "      <td>...</td>\n",
       "      <td>1</td>\n",
       "      <td>0</td>\n",
       "      <td>0</td>\n",
       "      <td>0</td>\n",
       "      <td>0</td>\n",
       "      <td>1</td>\n",
       "      <td>0</td>\n",
       "      <td>0</td>\n",
       "      <td>1</td>\n",
       "      <td>0</td>\n",
       "    </tr>\n",
       "    <tr>\n",
       "      <th>16276</th>\n",
       "      <td>-0.486625</td>\n",
       "      <td>0.170714</td>\n",
       "      <td>2.040794</td>\n",
       "      <td>-0.215504</td>\n",
       "      <td>0.372448</td>\n",
       "      <td>0</td>\n",
       "      <td>0</td>\n",
       "      <td>0</td>\n",
       "      <td>0</td>\n",
       "      <td>1</td>\n",
       "      <td>...</td>\n",
       "      <td>0</td>\n",
       "      <td>0</td>\n",
       "      <td>0</td>\n",
       "      <td>0</td>\n",
       "      <td>0</td>\n",
       "      <td>0</td>\n",
       "      <td>0</td>\n",
       "      <td>1</td>\n",
       "      <td>0</td>\n",
       "      <td>1</td>\n",
       "    </tr>\n",
       "    <tr>\n",
       "      <th>16277</th>\n",
       "      <td>-0.853331</td>\n",
       "      <td>-0.796939</td>\n",
       "      <td>-0.148709</td>\n",
       "      <td>-0.215504</td>\n",
       "      <td>-0.032711</td>\n",
       "      <td>0</td>\n",
       "      <td>0</td>\n",
       "      <td>0</td>\n",
       "      <td>0</td>\n",
       "      <td>1</td>\n",
       "      <td>...</td>\n",
       "      <td>0</td>\n",
       "      <td>0</td>\n",
       "      <td>0</td>\n",
       "      <td>0</td>\n",
       "      <td>1</td>\n",
       "      <td>0</td>\n",
       "      <td>0</td>\n",
       "      <td>0</td>\n",
       "      <td>0</td>\n",
       "      <td>1</td>\n",
       "    </tr>\n",
       "    <tr>\n",
       "      <th>16278</th>\n",
       "      <td>1.493590</td>\n",
       "      <td>0.742919</td>\n",
       "      <td>-0.148709</td>\n",
       "      <td>-0.215504</td>\n",
       "      <td>-0.032711</td>\n",
       "      <td>0</td>\n",
       "      <td>0</td>\n",
       "      <td>0</td>\n",
       "      <td>0</td>\n",
       "      <td>0</td>\n",
       "      <td>...</td>\n",
       "      <td>0</td>\n",
       "      <td>0</td>\n",
       "      <td>0</td>\n",
       "      <td>0</td>\n",
       "      <td>0</td>\n",
       "      <td>0</td>\n",
       "      <td>0</td>\n",
       "      <td>1</td>\n",
       "      <td>0</td>\n",
       "      <td>1</td>\n",
       "    </tr>\n",
       "    <tr>\n",
       "      <th>16279</th>\n",
       "      <td>-0.413284</td>\n",
       "      <td>-1.222342</td>\n",
       "      <td>-0.148709</td>\n",
       "      <td>4.512354</td>\n",
       "      <td>0.372448</td>\n",
       "      <td>0</td>\n",
       "      <td>0</td>\n",
       "      <td>0</td>\n",
       "      <td>0</td>\n",
       "      <td>1</td>\n",
       "      <td>...</td>\n",
       "      <td>0</td>\n",
       "      <td>0</td>\n",
       "      <td>0</td>\n",
       "      <td>0</td>\n",
       "      <td>0</td>\n",
       "      <td>0</td>\n",
       "      <td>0</td>\n",
       "      <td>1</td>\n",
       "      <td>0</td>\n",
       "      <td>1</td>\n",
       "    </tr>\n",
       "  </tbody>\n",
       "</table>\n",
       "<p>16280 rows × 65 columns</p>\n",
       "</div>"
      ],
      "text/plain": [
       "              0         1         2         3         4  workclass_?  \\\n",
       "0     -0.339942  0.894267 -0.062143 -0.215504  1.587927            0   \n",
       "1      0.100105  0.007787 -0.148709 -0.215504 -0.032711            0   \n",
       "2     -0.193260 -0.108769 -0.148709 -0.215504 -0.032711            0   \n",
       "3     -1.220038 -0.044097 -0.148709 -0.215504 -0.843031            0   \n",
       "4      0.613495 -0.372764  2.040794 -0.215504 -0.032711            0   \n",
       "...         ...       ...       ...       ...       ...          ...   \n",
       "16275 -1.000014  3.049439 -0.148709 -0.215504 -0.032711            0   \n",
       "16276 -0.486625  0.170714  2.040794 -0.215504  0.372448            0   \n",
       "16277 -0.853331 -0.796939 -0.148709 -0.215504 -0.032711            0   \n",
       "16278  1.493590  0.742919 -0.148709 -0.215504 -0.032711            0   \n",
       "16279 -0.413284 -1.222342 -0.148709  4.512354  0.372448            0   \n",
       "\n",
       "       workclass_Federal-gov  workclass_Local-gov  workclass_Never-worked  \\\n",
       "0                          0                    1                       0   \n",
       "1                          0                    0                       0   \n",
       "2                          0                    1                       0   \n",
       "3                          0                    0                       0   \n",
       "4                          0                    0                       0   \n",
       "...                      ...                  ...                     ...   \n",
       "16275                      0                    1                       0   \n",
       "16276                      0                    0                       0   \n",
       "16277                      0                    0                       0   \n",
       "16278                      0                    0                       0   \n",
       "16279                      0                    0                       0   \n",
       "\n",
       "       workclass_Private  ...  relationship_Own-child  relationship_Unmarried  \\\n",
       "0                      0  ...                       0                       0   \n",
       "1                      1  ...                       0                       0   \n",
       "2                      0  ...                       1                       0   \n",
       "3                      1  ...                       1                       0   \n",
       "4                      1  ...                       0                       0   \n",
       "...                  ...  ...                     ...                     ...   \n",
       "16275                  0  ...                       1                       0   \n",
       "16276                  1  ...                       0                       0   \n",
       "16277                  1  ...                       0                       0   \n",
       "16278                  0  ...                       0                       0   \n",
       "16279                  1  ...                       0                       0   \n",
       "\n",
       "       relationship_Wife  race_Amer-Indian-Eskimo  race_Asian-Pac-Islander  \\\n",
       "0                      0                        0                        0   \n",
       "1                      0                        0                        0   \n",
       "2                      0                        0                        0   \n",
       "3                      0                        0                        0   \n",
       "4                      0                        0                        0   \n",
       "...                  ...                      ...                      ...   \n",
       "16275                  0                        0                        0   \n",
       "16276                  0                        0                        0   \n",
       "16277                  0                        0                        1   \n",
       "16278                  0                        0                        0   \n",
       "16279                  0                        0                        0   \n",
       "\n",
       "       race_Black  race_Other  race_White  sex_Female  sex_Male  \n",
       "0               1           0           0           0         1  \n",
       "1               0           0           1           0         1  \n",
       "2               0           0           1           0         1  \n",
       "3               0           0           1           1         0  \n",
       "4               0           0           1           0         1  \n",
       "...           ...         ...         ...         ...       ...  \n",
       "16275           1           0           0           1         0  \n",
       "16276           0           0           1           0         1  \n",
       "16277           0           0           0           0         1  \n",
       "16278           0           0           1           0         1  \n",
       "16279           0           0           1           0         1  \n",
       "\n",
       "[16280 rows x 65 columns]"
      ]
     },
     "execution_count": 268,
     "metadata": {},
     "output_type": "execute_result"
    }
   ],
   "source": [
    "cols1=['age','fnlwgt','capital-gain', 'capital-loss','hours-per-week']\n",
    "cols2=['workclass', 'education','marital-status', 'occupation', 'relationship','race', 'sex']\n",
    "x3=pd.get_dummies(x[cols2])\n",
    "x2=pd.DataFrame(x2)\n",
    "x_final = pd.concat([x2, x3], axis=1)\n",
    "x_final"
   ]
  },
  {
   "cell_type": "markdown",
   "metadata": {},
   "source": [
    "Добавим к масштабированным вещественным признакам закодированные категориальные и обучим алгоритмы с наилучшими гиперпараметрами из предыдущего пункта. Дало ли добавление новых признаков прирост качества? Измерим качество как и раньше используя 5-Fold CV. Для этого удобно воспользоваться функцией [cross_val_score](https://scikit-learn.org/stable/modules/generated/sklearn.model_selection.cross_val_score.html)."
   ]
  },
  {
   "cell_type": "markdown",
   "metadata": {},
   "source": [
    "## KNN"
   ]
  },
  {
   "cell_type": "code",
   "execution_count": 272,
   "metadata": {},
   "outputs": [
    {
     "name": "stdout",
     "output_type": "stream",
     "text": [
      "0.853\n"
     ]
    }
   ],
   "source": [
    "from sklearn.pipeline import Pipeline\n",
    "x_train, x_test, y1_train, y1_test = train_test_split(x_final, y1, random_state=13)\n",
    "model10=KNeighborsClassifier(n_neighbors=19, metric = 'cityblock')\n",
    "model10.fit(x_train, y1_train)\n",
    "print(round(cross_val_score(model1, x_test, y1_test, cv=KFold(n_splits=5, random_state=13, shuffle=True), scoring='roc_auc').mean(), 3))\n"
   ]
  },
  {
   "cell_type": "markdown",
   "metadata": {},
   "source": [
    "## Decision tree"
   ]
  },
  {
   "cell_type": "code",
   "execution_count": 274,
   "metadata": {},
   "outputs": [
    {
     "name": "stdout",
     "output_type": "stream",
     "text": [
      "0.858\n"
     ]
    }
   ],
   "source": [
    "tree2=DecisionTreeClassifier(random_state=13, criterion = 'gini' , max_depth = 7)\n",
    "tree2.fit(x_train, y1_train)\n",
    "print(round(cross_val_score(tree2, x_test, y1_test, cv=KFold(n_splits=5, random_state=13, shuffle=True), scoring='roc_auc').mean(), 3))\n"
   ]
  },
  {
   "cell_type": "markdown",
   "metadata": {},
   "source": [
    "## SGD Linear Classifier"
   ]
  },
  {
   "cell_type": "code",
   "execution_count": 275,
   "metadata": {},
   "outputs": [
    {
     "name": "stdout",
     "output_type": "stream",
     "text": [
      "0.899\n"
     ]
    }
   ],
   "source": [
    "model11=SGDClassifier(random_state=13, loss='log', penalty='elasticnet')\n",
    "model11.fit(x_train, y1_train)\n",
    "print(round(cross_val_score(model11, x_test, y1_test, cv=KFold(n_splits=5, random_state=13, shuffle=True), scoring='roc_auc').mean(), 3))\n"
   ]
  },
  {
   "cell_type": "markdown",
   "metadata": {},
   "source": [
    "## Random Forest"
   ]
  },
  {
   "cell_type": "code",
   "execution_count": 276,
   "metadata": {},
   "outputs": [
    {
     "name": "stdout",
     "output_type": "stream",
     "text": [
      "0.894\n"
     ]
    }
   ],
   "source": [
    "forest2=RandomForestClassifier(n_estimators=53, random_state=13, criterion='entropy', max_features ='sqrt')\n",
    "forest2.fit(x_train, y1_train)\n",
    "print(round(cross_val_score(forest2, x_test, y1_test, cv=KFold(n_splits=5, random_state=13, shuffle=True), scoring='roc_auc').mean(), 3))\n"
   ]
  },
  {
   "cell_type": "markdown",
   "metadata": {},
   "source": [
    "## Gradient Boosting"
   ]
  },
  {
   "cell_type": "code",
   "execution_count": 289,
   "metadata": {},
   "outputs": [
    {
     "name": "stdout",
     "output_type": "stream",
     "text": [
      "0.912\n"
     ]
    }
   ],
   "source": [
    "boost2=GradientBoostingClassifier(n_estimators=159, random_state=13, criterion='friedman_mse', max_features='auto')\n",
    "boost2.fit(x_train, y1_train)\n",
    "print(round(cross_val_score(boost2, x_test, y1_test, cv=KFold(n_splits=5, random_state=13, shuffle=True), scoring='roc_auc').mean(), 3))\n"
   ]
  },
  {
   "cell_type": "markdown",
   "metadata": {},
   "source": [
    "Лучший результат по-прежнему у бустинга."
   ]
  },
  {
   "cell_type": "markdown",
   "metadata": {},
   "source": [
    "# Поиск новых полезных признаков\n",
    "\n",
    " Попробуем улучшить качество модели, добавив в неё новые информативные признаки. Поступим следующим образом:\n",
    "* добавим к модели полиномиальных признаков степени 2 (для создания полиномиальных признаков используем только исходные числовые признаки)\n",
    "* затем снизим размерность с помощью:\n",
    "a) фильтрационных методов\n",
    "b) жадного отбора признаков (RFE)\n",
    "с) встроенного в модель метода отбора признаков.\n",
    "\n",
    "Для каждого пункта выше выберем один метод и подберем для него оптимальные гиперпараметры, а также количество финальных признаков (по кросс-валидации).\n",
    "\n",
    "* Затем можно добавить к модели закодированные в предыдущем пункте категориальные признаки.\n"
   ]
  },
  {
   "cell_type": "markdown",
   "metadata": {},
   "source": [
    "## KNN"
   ]
  },
  {
   "cell_type": "code",
   "execution_count": 301,
   "metadata": {},
   "outputs": [
    {
     "name": "stderr",
     "output_type": "stream",
     "text": [
      "100%|███████████████████████████████████████████| 19/19 [00:36<00:00,  1.94s/it]"
     ]
    },
    {
     "name": "stdout",
     "output_type": "stream",
     "text": [
      "[0.648, 0.737, 0.759, 0.785, 0.797, 0.79, 0.788, 0.789, 0.791, 0.788, 0.787, 0.794, 0.793, 0.794, 0.795, 0.793, 0.795, 0.793, 0.79, 0.788]\n",
      "0.797 5\n"
     ]
    },
    {
     "name": "stderr",
     "output_type": "stream",
     "text": [
      "\n"
     ]
    }
   ],
   "source": [
    "from sklearn.feature_selection import f_classif, chi2, mutual_info_classif\n",
    "from sklearn.feature_selection import SelectKBest, SelectPercentile\n",
    "from sklearn.pipeline import Pipeline\n",
    "from sklearn.preprocessing import PolynomialFeatures, StandardScaler\n",
    "from tqdm import tqdm\n",
    "score5=[]\n",
    "p1 = Pipeline([\n",
    "    ('poly_featurizer_', PolynomialFeatures(degree=2)),\n",
    "    ('selector_', SelectKBest(score_func=mutual_info_classif, k=1)), \n",
    "    ('model_', KNeighborsClassifier(n_neighbors=19, metric = 'cityblock'))])\n",
    "p1.fit(x2_train, y_train)\n",
    "score5.append(round(cross_val_score(p1, x2_test, y_test, cv=KFold(n_splits=5, random_state=13, shuffle=True), scoring='roc_auc').mean(), 3))\n",
    "l=1\n",
    "s=score5[0]\n",
    "for i in tqdm(range(2,21)):\n",
    "    p1 = Pipeline([\n",
    "    ('poly_featurizer_', PolynomialFeatures(degree=2)),\n",
    "    ('selector_', SelectKBest(score_func=mutual_info_classif,k=i)), \n",
    "    ('model_', KNeighborsClassifier(n_neighbors=19, metric = 'cityblock'))])\n",
    "    p1.fit(x2_train, y_train)\n",
    "    score5.append(round(cross_val_score(p1, x2_test, y_test, cv=KFold(n_splits=5, random_state=13, shuffle=True), scoring='roc_auc').mean(), 3))\n",
    "    if score5[i-1]>s:\n",
    "        s=score5[i-1]\n",
    "        l=i\n",
    "print(score5)\n",
    "print(s,l)"
   ]
  },
  {
   "cell_type": "code",
   "execution_count": 316,
   "metadata": {},
   "outputs": [
    {
     "name": "stdout",
     "output_type": "stream",
     "text": [
      "0.875\n"
     ]
    }
   ],
   "source": [
    "poly = PolynomialFeatures(2)\n",
    "x2_new=poly.fit_transform(x2)\n",
    "select = SelectKBest(score_func=mutual_info_classif, k=5)\n",
    "z = select.fit_transform(x2_new,y)\n",
    "z=pd.DataFrame(z)\n",
    "x_final1 = pd.concat([z, x3], axis=1)\n",
    "x3_train, x3_test, y3_train, y3_test = train_test_split(x_final1, y, random_state=13)\n",
    "model12=KNeighborsClassifier(n_neighbors=19, metric = 'cityblock')\n",
    "model12.fit(x3_train, y3_train)\n",
    "print((round(cross_val_score(model12, x3_test, y3_test, cv=KFold(n_splits=5, random_state=13, shuffle=True), scoring='roc_auc').mean(), 3)))"
   ]
  },
  {
   "cell_type": "markdown",
   "metadata": {},
   "source": [
    "## Decision tree"
   ]
  },
  {
   "cell_type": "code",
   "execution_count": 321,
   "metadata": {
    "scrolled": true
   },
   "outputs": [
    {
     "name": "stderr",
     "output_type": "stream",
     "text": [
      "100%|███████████████████████████████████████████| 19/19 [00:31<00:00,  1.66s/it]"
     ]
    },
    {
     "name": "stdout",
     "output_type": "stream",
     "text": [
      "[0.628, 0.737, 0.747, 0.76, 0.782, 0.784, 0.775, 0.787, 0.795, 0.801, 0.797, 0.799, 0.796, 0.797, 0.796, 0.8, 0.797, 0.797, 0.796, 0.79]\n",
      "0.801 10\n"
     ]
    },
    {
     "name": "stderr",
     "output_type": "stream",
     "text": [
      "\n"
     ]
    }
   ],
   "source": [
    "from sklearn.feature_selection import RFE\n",
    "from sklearn.linear_model import LogisticRegression\n",
    "score6=[]\n",
    "p2 = Pipeline([\n",
    "    ('poly_featurizer_', PolynomialFeatures(degree=2)),\n",
    "    ('selector_', RFE(LogisticRegression(max_iter=1000),\n",
    "                      n_features_to_select=1)), \n",
    "    ('model_', DecisionTreeClassifier(random_state=13, criterion = 'gini' , max_depth = 7))])\n",
    "p2.fit(x2_train, y_train)\n",
    "score6.append(round(cross_val_score(p2, x2_test, y_test, cv=KFold(n_splits=5, random_state=13, shuffle=True), scoring='roc_auc').mean(), 3))\n",
    "l=1\n",
    "s=score6[0]\n",
    "for i in tqdm(range(2,21)):\n",
    "    p2 = Pipeline([\n",
    "    ('poly_featurizer_', PolynomialFeatures(degree=2)),\n",
    "    ('selector_', RFE(LogisticRegression(max_iter=1000),\n",
    "                      n_features_to_select=i)), \n",
    "    ('model_', DecisionTreeClassifier(random_state=13, criterion = 'gini' , max_depth = 7))])\n",
    "    p2.fit(x2_train, y_train)\n",
    "    score6.append(round(cross_val_score(p2, x2_test, y_test, cv=KFold(n_splits=5, random_state=13, shuffle=True), scoring='roc_auc').mean(), 3))\n",
    "    if score6[i-1]>s:\n",
    "        s=score6[i-1]\n",
    "        l=i\n",
    "print(score6)\n",
    "print(s,l)"
   ]
  },
  {
   "cell_type": "code",
   "execution_count": 322,
   "metadata": {},
   "outputs": [
    {
     "name": "stdout",
     "output_type": "stream",
     "text": [
      "0.85\n"
     ]
    }
   ],
   "source": [
    "select1=RFE(LogisticRegression(max_iter=1000),\n",
    "                      n_features_to_select=10)\n",
    "z1 = select1.fit_transform(x2_new,y)\n",
    "z1=pd.DataFrame(z1)\n",
    "x_final2 = pd.concat([z1, x3], axis=1)\n",
    "x4_train, x4_test, y4_train, y4_test = train_test_split(x_final2, y, random_state=13)\n",
    "tree3=DecisionTreeClassifier(random_state=13, criterion = 'gini' , max_depth = 7)\n",
    "tree3.fit(x4_train, y4_train)\n",
    "print((round(cross_val_score(tree3, x4_test, y4_test, cv=KFold(n_splits=5, random_state=13, shuffle=True), scoring='roc_auc').mean(), 3)))"
   ]
  },
  {
   "cell_type": "markdown",
   "metadata": {},
   "source": [
    "## SGD Linear Classifier"
   ]
  },
  {
   "cell_type": "code",
   "execution_count": 324,
   "metadata": {
    "scrolled": true
   },
   "outputs": [
    {
     "name": "stderr",
     "output_type": "stream",
     "text": [
      "100%|███████████████████████████████████████████| 19/19 [05:50<00:00, 18.47s/it]"
     ]
    },
    {
     "name": "stdout",
     "output_type": "stream",
     "text": [
      "[0.604, 0.681, 0.767, 0.772, 0.775, 0.772, 0.774, 0.776, 0.778, 0.781, 0.793, 0.794, 0.788, 0.801, 0.803, 0.789, 0.784, 0.79, 0.775, 0.793]\n",
      "0.803 15\n"
     ]
    },
    {
     "name": "stderr",
     "output_type": "stream",
     "text": [
      "\n"
     ]
    }
   ],
   "source": [
    "from sklearn.feature_selection import SelectFromModel\n",
    "score7=[]\n",
    "p3 = Pipeline([\n",
    "    ('poly_featurizer_', PolynomialFeatures(degree=2)),\n",
    "    ('selector_', SelectFromModel(LogisticRegression(penalty='l1', max_iter=1000, solver='liblinear'), \n",
    "                                  max_features=1)), \n",
    "    ('model_', SGDClassifier(random_state=13, loss='log', penalty='elasticnet'))])\n",
    "p3.fit(x2_train, y_train)\n",
    "score7.append(round(cross_val_score(p3, x2_test, y_test, cv=KFold(n_splits=5, random_state=13, shuffle=True), scoring='roc_auc').mean(), 3))\n",
    "l=1\n",
    "s=score7[0]\n",
    "for i in tqdm(range(2,21)):\n",
    "    p3 = Pipeline([\n",
    "    ('poly_featurizer_', PolynomialFeatures(degree=2)),\n",
    "    ('selector_', SelectFromModel(LogisticRegression(penalty='l1', max_iter=1000, solver='liblinear'), \n",
    "                                  max_features=i)), \n",
    "    ('model_', SGDClassifier(random_state=13, loss='log', penalty='elasticnet'))])\n",
    "    p3.fit(x2_train, y_train)\n",
    "    score7.append(round(cross_val_score(p3, x2_test, y_test, cv=KFold(n_splits=5, random_state=13, shuffle=True), scoring='roc_auc').mean(), 3))\n",
    "    if score7[i-1]>s:\n",
    "        s=score7[i-1]\n",
    "        l=i\n",
    "print(score7)\n",
    "print(s,l)"
   ]
  },
  {
   "cell_type": "code",
   "execution_count": 325,
   "metadata": {},
   "outputs": [
    {
     "name": "stdout",
     "output_type": "stream",
     "text": [
      "0.864\n"
     ]
    }
   ],
   "source": [
    "select2=SelectFromModel(LogisticRegression(penalty='l1', max_iter=1000, solver='liblinear'), \n",
    "                                  max_features=15)\n",
    "z2 = select2.fit_transform(x2_new,y)\n",
    "z2=pd.DataFrame(z2)\n",
    "x_final3 = pd.concat([z2, x3], axis=1)\n",
    "x5_train, x5_test, y5_train, y5_test = train_test_split(x_final3, y, random_state=13)\n",
    "model13=SGDClassifier(random_state=13, loss='log', penalty='elasticnet')\n",
    "model13.fit(x5_train, y5_train)\n",
    "print((round(cross_val_score(model13, x5_test, y5_test, cv=KFold(n_splits=5, random_state=13, shuffle=True), scoring='roc_auc').mean(), 3)))"
   ]
  },
  {
   "cell_type": "markdown",
   "metadata": {},
   "source": [
    "## Random Forest"
   ]
  },
  {
   "cell_type": "code",
   "execution_count": 326,
   "metadata": {},
   "outputs": [
    {
     "name": "stderr",
     "output_type": "stream",
     "text": [
      "100%|███████████████████████████████████████████| 19/19 [01:00<00:00,  3.17s/it]"
     ]
    },
    {
     "name": "stdout",
     "output_type": "stream",
     "text": [
      "[0.679, 0.773, 0.786, 0.79, 0.793, 0.792, 0.787, 0.787, 0.783, 0.783, 0.779, 0.771, 0.769, 0.771, 0.775, 0.777, 0.779, 0.778, 0.776, 0.781]\n",
      "0.793 5\n"
     ]
    },
    {
     "name": "stderr",
     "output_type": "stream",
     "text": [
      "\n"
     ]
    }
   ],
   "source": [
    "score8=[]\n",
    "p4 = Pipeline([\n",
    "    ('poly_featurizer_', PolynomialFeatures(degree=2)),\n",
    "    ('selector_', SelectKBest(score_func=mutual_info_classif, k=1)), \n",
    "    ('model_', RandomForestClassifier(n_estimators=53, random_state=13, criterion='entropy', max_features ='sqrt'))])\n",
    "p4.fit(x2_train, y_train)\n",
    "score8.append(round(cross_val_score(p4, x2_test, y_test, cv=KFold(n_splits=5, random_state=13, shuffle=True), scoring='roc_auc').mean(), 3))\n",
    "l=1\n",
    "s=score8[0]\n",
    "for i in tqdm(range(2,21)):\n",
    "    p4 = Pipeline([\n",
    "    ('poly_featurizer_', PolynomialFeatures(degree=2)),\n",
    "    ('selector_', SelectKBest(score_func=mutual_info_classif,k=i)), \n",
    "    ('model_', RandomForestClassifier(n_estimators=53, random_state=13, criterion='entropy', max_features ='sqrt'))])\n",
    "    p4.fit(x2_train, y_train)\n",
    "    score8.append(round(cross_val_score(p4, x2_test, y_test, cv=KFold(n_splits=5, random_state=13, shuffle=True), scoring='roc_auc').mean(), 3))\n",
    "    if score8[i-1]>s:\n",
    "        s=score8[i-1]\n",
    "        l=i\n",
    "print(score8)\n",
    "print(s,l)"
   ]
  },
  {
   "cell_type": "code",
   "execution_count": 327,
   "metadata": {},
   "outputs": [
    {
     "name": "stdout",
     "output_type": "stream",
     "text": [
      "0.879\n"
     ]
    }
   ],
   "source": [
    "select3=SelectKBest(score_func=mutual_info_classif, k=5)\n",
    "z3 = select3.fit_transform(x2_new,y)\n",
    "z3=pd.DataFrame(z3)\n",
    "x_final4 = pd.concat([z3, x3], axis=1)\n",
    "x6_train, x6_test, y6_train, y6_test = train_test_split(x_final4, y, random_state=13)\n",
    "forest3=RandomForestClassifier(n_estimators=53, random_state=13, criterion='entropy', max_features ='sqrt')\n",
    "forest3.fit(x6_train, y6_train)\n",
    "print((round(cross_val_score(forest3, x6_test, y6_test, cv=KFold(n_splits=5, random_state=13, shuffle=True), scoring='roc_auc').mean(), 3)))"
   ]
  },
  {
   "cell_type": "markdown",
   "metadata": {},
   "source": [
    "## Gradient Boosting"
   ]
  },
  {
   "cell_type": "code",
   "execution_count": 328,
   "metadata": {},
   "outputs": [
    {
     "name": "stderr",
     "output_type": "stream",
     "text": [
      "100%|███████████████████████████████████████████| 19/19 [02:04<00:00,  6.55s/it]"
     ]
    },
    {
     "name": "stdout",
     "output_type": "stream",
     "text": [
      "[0.628, 0.749, 0.771, 0.783, 0.801, 0.807, 0.809, 0.825, 0.827, 0.828, 0.826, 0.826, 0.824, 0.824, 0.826, 0.827, 0.826, 0.827, 0.826, 0.828]\n",
      "0.828 10\n"
     ]
    },
    {
     "name": "stderr",
     "output_type": "stream",
     "text": [
      "\n"
     ]
    }
   ],
   "source": [
    "from sklearn.feature_selection import RFE\n",
    "from sklearn.linear_model import LogisticRegression\n",
    "score9=[]\n",
    "p5 = Pipeline([\n",
    "    ('poly_featurizer_', PolynomialFeatures(degree=2)),\n",
    "    ('selector_', RFE(LogisticRegression(max_iter=1000),\n",
    "                      n_features_to_select=1)), \n",
    "    ('model_', GradientBoostingClassifier(n_estimators=159, random_state=13, criterion='friedman_mse', max_features='auto'))])\n",
    "p5.fit(x2_train, y_train)\n",
    "score9.append(round(cross_val_score(p5, x2_test, y_test, cv=KFold(n_splits=5, random_state=13, shuffle=True), scoring='roc_auc').mean(), 3))\n",
    "l=1\n",
    "s=score9[0]\n",
    "for i in tqdm(range(2,21)):\n",
    "    p5 = Pipeline([\n",
    "    ('poly_featurizer_', PolynomialFeatures(degree=2)),\n",
    "    ('selector_', RFE(LogisticRegression(max_iter=1000),\n",
    "                      n_features_to_select=i)), \n",
    "    ('model_', GradientBoostingClassifier(n_estimators=159, random_state=13, criterion='friedman_mse', max_features='auto'))])\n",
    "    p5.fit(x2_train, y_train)\n",
    "    score9.append(round(cross_val_score(p5, x2_test, y_test, cv=KFold(n_splits=5, random_state=13, shuffle=True), scoring='roc_auc').mean(), 3))\n",
    "    if score9[i-1]>s:\n",
    "        s=score9[i-1]\n",
    "        l=i\n",
    "print(score9)\n",
    "print(s,l)"
   ]
  },
  {
   "cell_type": "code",
   "execution_count": 329,
   "metadata": {},
   "outputs": [
    {
     "name": "stdout",
     "output_type": "stream",
     "text": [
      "0.908\n"
     ]
    }
   ],
   "source": [
    "select4=RFE(LogisticRegression(max_iter=1000),\n",
    "                      n_features_to_select=10)\n",
    "z4 = select4.fit_transform(x2_new,y)\n",
    "z4=pd.DataFrame(z4)\n",
    "x_final5 = pd.concat([z4, x3], axis=1)\n",
    "x7_train, x7_test, y7_train, y7_test = train_test_split(x_final5, y, random_state=13)\n",
    "boost3=GradientBoostingClassifier(n_estimators=159, random_state=13, criterion='friedman_mse', max_features='auto')\n",
    "boost3.fit(x7_train, y7_train)\n",
    "print((round(cross_val_score(boost3, x7_test, y7_test, cv=KFold(n_splits=5, random_state=13, shuffle=True), scoring='roc_auc').mean(), 3)))"
   ]
  },
  {
   "cell_type": "markdown",
   "metadata": {},
   "source": [
    "Улучшилась только модель KNeighborsClassifier"
   ]
  },
  {
   "cell_type": "markdown",
   "metadata": {},
   "source": [
    "# Смешивание моделей\n",
    "\n",
    "Во всех предыдущих пунктах мы получили много сильных моделей, которые могут быть достаточно разными по своей природе (например, метод ближайших соседей и случайный лес). Часто на практике оказывается возможным увеличить качество предсказания путем смешивания подобных разных моделей. Давайте посмотрим, действительно ли это дает прирост в качестве.\n",
    "\n",
    "Выберем из построенных моделей двух предыдущих пунктов две, которые дали наибольшее начество на кросс-валидации (обозначим их $clf_1$ и $clf_2$). Далее построем новый классификатор, ответ которого на некотором объекте $x$ будет выглядеть следующим образом:\n",
    "\n",
    "$$result(x) = clf_1(x) \\cdot \\alpha + clf_2(x) \\cdot (1 - \\alpha)$$\n",
    "\n",
    "где $\\alpha$ — гиперпараметр нового классификатора.\n",
    "\n",
    "Подберем по сетке от 0 до 1 $\\alpha$ для этого классификатора с помощью 5-Fold CV и построим график качества в зависимости от $\\alpha$ (аналогичный графику в разделе \"Обучение классификаторов и оценка качества\"):"
   ]
  },
  {
   "cell_type": "code",
   "execution_count": 388,
   "metadata": {},
   "outputs": [
    {
     "name": "stdout",
     "output_type": "stream",
     "text": [
      "0.5 0.845\n",
      "[0.802, 0.802, 0.802, 0.802, 0.802, 0.802, 0.802, 0.802, 0.802, 0.802, 0.845, 0.831, 0.831, 0.831, 0.831, 0.831, 0.831, 0.831, 0.831, 0.831, 0.831]\n"
     ]
    }
   ],
   "source": [
    "from sklearn.model_selection import cross_val_predict\n",
    "boost2=GradientBoostingClassifier(n_estimators=159, random_state=13, criterion='friedman_mse', max_features='auto')\n",
    "boost2.fit(x_train, y1_train)\n",
    "y_predboost=cross_val_predict(boost2, x_test, y1_test, cv=KFold(n_splits=5, random_state=13, shuffle=True))\n",
    "y_predboost=pd.DataFrame(y_predboost)\n",
    "model11=SGDClassifier(random_state=13, loss='log', penalty='elasticnet')\n",
    "model11.fit(x_train, y1_train)\n",
    "y_predSGD=cross_val_predict(model11, x_test, y1_test, cv=KFold(n_splits=5, random_state=13, shuffle=True))\n",
    "y_predSGD=pd.DataFrame(y_predSGD)\n",
    "date=y_predSGD\n",
    "result=pd.DataFrame(date)\n",
    "alpha=0\n",
    "maxx=0\n",
    "o=[]\n",
    "o.append(round(roc_auc_score(result,y1_test),3))\n",
    "if maxx<round(roc_auc_score(result,y1_test),3):\n",
    "        maxx=round(roc_auc_score(result,y1_test),3)\n",
    "        alpha=g\n",
    "for i in range(1,21):\n",
    "    g=0.05*i\n",
    "    date=y_predboost*g+y_predSGD*(1-g)\n",
    "    result=pd.DataFrame(date)\n",
    "    result=(result>0.5)\n",
    "    o.append(round(roc_auc_score(result,y1_test),3))\n",
    "    if maxx<round(roc_auc_score(result,y1_test),3):\n",
    "        maxx=round(roc_auc_score(result,y1_test),3)\n",
    "        alpha=g\n",
    "print(alpha,maxx)\n",
    "print(o)"
   ]
  },
  {
   "cell_type": "code",
   "execution_count": 390,
   "metadata": {},
   "outputs": [
    {
     "data": {
      "image/png": "[encoded data removed]",
      "text/plain": [
       "<Figure size 1008x504 with 1 Axes>"
      ]
     },
     "metadata": {
      "needs_background": "light"
     },
     "output_type": "display_data"
    }
   ],
   "source": [
    "plt.figure(figsize=(14, 7))\n",
    "plt.plot(np.arange(0, 1.05, 0.05), o, color='k')\n",
    "plt.title(\"Dependence of roc_auc on alpha\")\n",
    "plt.xlabel(\"alpha\")\n",
    "plt.ylabel(\"roc_auc\")\n",
    "plt.show()"
   ]
  },
  {
   "cell_type": "markdown",
   "metadata": {},
   "source": [
    "Этот подход не дал прирост к качеству по сравнению с взятыми моделями."
   ]
  },
  {
   "cell_type": "code",
   "execution_count": null,
   "metadata": {},
   "outputs": [],
   "source": []
  }
 ],
 "metadata": {
  "kernelspec": {
   "display_name": "Python 3 (ipykernel)",
   "language": "python",
   "name": "python3"
  },
  "language_info": {
   "codemirror_mode": {
    "name": "ipython",
    "version": 3
   },
   "file_extension": ".py",
   "mimetype": "text/x-python",
   "name": "python",
   "nbconvert_exporter": "python",
   "pygments_lexer": "ipython3",
   "version": "3.9.7"
  },
  "toc": {
   "base_numbering": 1,
   "nav_menu": {},
   "number_sections": true,
   "sideBar": true,
   "skip_h1_title": false,
   "title_cell": "Table of Contents",
   "title_sidebar": "Contents",
   "toc_cell": false,
   "toc_position": {
    "height": "calc(100% - 180px)",
    "left": "10px",
    "top": "150px",
    "width": "288px"
   },
   "toc_section_display": true,
   "toc_window_display": true
  }
 },
 "nbformat": 4,
 "nbformat_minor": 1
}
